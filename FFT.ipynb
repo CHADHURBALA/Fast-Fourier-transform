{
  "nbformat": 4,
  "nbformat_minor": 0,
  "metadata": {
    "colab": {
      "provenance": [],
      "authorship_tag": "ABX9TyOYL1NiMhU6MJlX2M8d3c0g",
      "include_colab_link": true
    },
    "kernelspec": {
      "name": "python3",
      "display_name": "Python 3"
    },
    "language_info": {
      "name": "python"
    }
  },
  "cells": [
    {
      "cell_type": "markdown",
      "metadata": {
        "id": "view-in-github",
        "colab_type": "text"
      },
      "source": [
        "<a href=\"https://colab.research.google.com/github/CHADHURBALA/Fast-Fourier-transform/blob/main/FFT.ipynb\" target=\"_parent\"><img src=\"https://colab.research.google.com/assets/colab-badge.svg\" alt=\"Open In Colab\"/></a>"
      ]
    },
    {
      "cell_type": "code",
      "execution_count": null,
      "metadata": {
        "id": "CPfEmEdnMYOu"
      },
      "outputs": [],
      "source": [
        "#Objective: To compute FFT of a sequence\n",
        "#Inputs: The elements of the sequence  \n",
        "#Outputs: The FFT of the sequence\n",
        "\n",
        "import time\n",
        "from math import log2\n",
        "from cmath import exp, pi\n",
        "import numpy as np\n"
      ]
    },
    {
      "cell_type": "code",
      "source": [
        "def FFT(x):\n",
        "  N = len(x)\n",
        "  if N <= 1:\n",
        "    return x\n",
        "  \n",
        "  x_e = FFT(x[::2])\n",
        "  x_o = FFT(x[1::2])\n",
        "  \n",
        "  X_e = [complex(round(i.real), round(i.imag)) for i in x_e]\n",
        "  X_o = [complex(round(i.real), round(i.imag)) for i in x_o]\n",
        "  if log2(len(x_e)) != 0:\n",
        "    print(f\"\\nButterfly stage: {int(log2(len(x_e)))}\\n\")\n",
        "    print (*X_e, sep=\"\\n\")\n",
        "    print (*X_o, sep=\"\\n\")\n",
        "\n",
        "  X =[0]*N\n",
        "  for a in range(N//2):\n",
        "    \n",
        "    X[a] = x_e[a] + exp(-1j*2*a*pi/N)*x_o[a]\n",
        "    X[a + N//2] = x_e[a] - exp(-1j*2*a*pi/N)*x_o[a]\n",
        "    \n",
        "  return X"
      ],
      "metadata": {
        "id": "oKNGueqbUbqU"
      },
      "execution_count": null,
      "outputs": []
    },
    {
      "cell_type": "code",
      "source": [
        "x = [complex(ele) for ele in input(\"Enter the sequence: \").split()]\n",
        "\n",
        "start = time.time()\n",
        "X = FFT(x)\n",
        "end = time.time()\n",
        "X = [complex(round(i.real), round(i.imag)) for i in X]\n",
        "\n",
        "print(f\"\\nButterfly stage: {int(log2(len(X)))}\\n\")\n",
        "print(X)\n",
        "print(\"\\nTime taken to compute FFT manually: \", round(end - start, 5), \"s\")\n",
        "x = np.array(x)\n",
        "start = time.time()\n",
        "X1 = np.round(np.fft.fft(x))\n",
        "end = time.time()\n",
        "print(\"\\nFFT of given sequence using Built-In function: \\n\")\n",
        "print(X1)\n",
        "print(\"\\nTime taken to compute FFT using Built-In function: \", round(end - start, 5), \"s\")"
      ],
      "metadata": {
        "colab": {
          "base_uri": "https://localhost:8080/"
        },
        "id": "l6obYEWoO9yO",
        "outputId": "01126d01-d635-4ee6-fb64-df24431a9c2d"
      },
      "execution_count": null,
      "outputs": [
        {
          "output_type": "stream",
          "name": "stdout",
          "text": [
            "Enter the sequence: 1 1 1 1 1 0 0 0\n",
            "\n",
            "Butterfly stage: 1\n",
            "\n",
            "(2+0j)\n",
            "0j\n",
            "(1+0j)\n",
            "(1+0j)\n",
            "\n",
            "Butterfly stage: 1\n",
            "\n",
            "(1+0j)\n",
            "(1+0j)\n",
            "(1+0j)\n",
            "(1+0j)\n",
            "\n",
            "Butterfly stage: 2\n",
            "\n",
            "(3+0j)\n",
            "-1j\n",
            "(1+0j)\n",
            "1j\n",
            "(2+0j)\n",
            "(1-1j)\n",
            "0j\n",
            "(1+1j)\n",
            "\n",
            "Butterfly stage: 3\n",
            "\n",
            "[(5+0j), -2j, (1+0j), 0j, (1+0j), 0j, (1+0j), 2j]\n",
            "\n",
            "Time taken to compute FFT manually:  0.00585 s\n",
            "\n",
            "FFT of given sequence using Built-In function: \n",
            "\n",
            "[5.+0.j 0.-2.j 1.+0.j 0.-0.j 1.+0.j 0.+0.j 1.+0.j 0.+2.j]\n",
            "\n",
            "Time taken to compute FFT using Built-In function:  0.00023 s\n"
          ]
        }
      ]
    }
  ]
}